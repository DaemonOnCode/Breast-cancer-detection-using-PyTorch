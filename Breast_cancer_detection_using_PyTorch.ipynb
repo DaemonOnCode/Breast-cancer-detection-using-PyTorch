{
  "nbformat": 4,
  "nbformat_minor": 0,
  "metadata": {
    "colab": {
      "name": "Breast cancer detection using PyTorch.ipynb",
      "provenance": [],
      "authorship_tag": "ABX9TyPgAlRF74+R+MvNM3c3M0b1",
      "include_colab_link": true
    },
    "kernelspec": {
      "name": "python3",
      "display_name": "Python 3"
    }
  },
  "cells": [
    {
      "cell_type": "markdown",
      "metadata": {
        "id": "view-in-github",
        "colab_type": "text"
      },
      "source": [
        "<a href=\"https://colab.research.google.com/github/DaemonOnCode/Breast-cancer-detection-using-PyTorch/blob/main/Breast_cancer_detection_using_PyTorch.ipynb\" target=\"_parent\"><img src=\"https://colab.research.google.com/assets/colab-badge.svg\" alt=\"Open In Colab\"/></a>"
      ]
    },
    {
      "cell_type": "code",
      "metadata": {
        "id": "ol2eCG78bgoG"
      },
      "source": [
        "import torch\n",
        "import torch.nn as nn\n",
        "import numpy as np\n",
        "import matplotlib.pyplot as plt\n",
        "from sklearn import datasets\n",
        "from sklearn.preprocessing import StandardScaler\n",
        "from sklearn.model_selection import train_test_split"
      ],
      "execution_count": null,
      "outputs": []
    },
    {
      "cell_type": "code",
      "metadata": {
        "id": "R5ndabfYcHnW",
        "outputId": "79940ec9-86b3-4984-8447-e4233fb91cf6",
        "colab": {
          "base_uri": "https://localhost:8080/",
          "height": 225
        }
      },
      "source": [
        "#0) Prepare data\n",
        "bc = datasets.load_breast_cancer()\n",
        "x, y = bc.data, bc.target\n",
        "\n",
        "n_samples, n_features = x.shape\n",
        "print(n_samples, n_features)\n",
        "\n",
        "x_train, x_test, y_train, y_test = train_test_split(x, y, test_size=0.2, random_state=1234)\n",
        "\n",
        "#scale\n",
        "sc = StandardScaler()\n",
        "x_train = sc.fit_transform(x_train)\n",
        "x_test = sc.fit_transform(x_test)\n",
        "\n",
        "x_train = torch.from_numpy(x_train.astype(np.float32))\n",
        "x_test = torch.from_numpy(x_test.astype(np.float32))\n",
        "y_train = torch.from_numpy(y_train.astype(np.float32))\n",
        "y_test = torch.from_numpy(y_test.astype(np.float32))\n",
        "\n",
        "y_train = y_train.view(y_train.shape[0], 1)\n",
        "y_test = y_test.view(y_test.shape[0], 1)\n",
        "\n",
        "#1) model\n",
        "#f = wx + b, sigmoid at the end\n",
        "class LogisticRegression(nn.Module):\n",
        "  def __init__(self, n_input_features):\n",
        "    super(LogisticRegression, self).__init__()\n",
        "    self.linear = nn.Linear(n_input_features, 1)\n",
        "\n",
        "  def forward(self, x):\n",
        "    y_predicted = torch.sigmoid(self.linear(x))\n",
        "    return y_predicted\n",
        "\n",
        "model = LogisticRegression(n_features)\n",
        "\n",
        "#2) loss and optimizer\n",
        "\n",
        "lr = 10\n",
        "criterion = nn.BCELoss()\n",
        "optimizer = torch.optim.SGD(model.parameters(), lr = lr)\n",
        "\n",
        "#3) training loop\n",
        "num_epochs = 1000\n",
        "for epoch in range(num_epochs):\n",
        "  y_predicted = model(x_train)\n",
        "  loss = criterion(y_predicted, y_train)\n",
        "  loss.backward()\n",
        "  optimizer.step()\n",
        "  optimizer.zero_grad()\n",
        "\n",
        "  if (epoch+1) % 100 == 0:\n",
        "    print(f'epoch: {epoch+1}, loss: {loss.item():.4f}')\n",
        "\n",
        "with torch.no_grad():\n",
        "  y_predicted = model(x_test)\n",
        "  y_predicted_cls = y_predicted.round()\n",
        "  acc = y_predicted_cls.eq(y_test).sum() / float (y_test.shape[0])\n",
        "  print(f'accuracy: {acc*100:.2f}%')"
      ],
      "execution_count": null,
      "outputs": [
        {
          "output_type": "stream",
          "text": [
            "569 30\n",
            "epoch: 100, loss: 0.0243\n",
            "epoch: 200, loss: 0.0168\n",
            "epoch: 300, loss: 0.0141\n",
            "epoch: 400, loss: 0.0124\n",
            "epoch: 500, loss: 0.0112\n",
            "epoch: 600, loss: 0.0102\n",
            "epoch: 700, loss: 0.0094\n",
            "epoch: 800, loss: 0.0088\n",
            "epoch: 900, loss: 0.0082\n",
            "epoch: 1000, loss: 0.0077\n",
            "accuracy: 97.37%\n"
          ],
          "name": "stdout"
        }
      ]
    }
  ]
}